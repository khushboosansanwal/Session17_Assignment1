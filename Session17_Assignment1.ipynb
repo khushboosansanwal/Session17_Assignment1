{
 "cells": [
  {
   "cell_type": "code",
   "execution_count": null,
   "metadata": {},
   "outputs": [],
   "source": [
    "#Question1"
   ]
  },
  {
   "cell_type": "markdown",
   "metadata": {},
   "source": [
    "Step-1: State the hypotheses. The population mean is 100.\n",
    "\n",
    "H0: μ= 100 H1: μ > 100\n",
    "\n",
    "Step-2: Set up the significance level. It is not given in the problem so let’s assume it as 5% (0.05).\n",
    "\n",
    "Step-3: Compute the random chance probability using z score and z-table.\n",
    "\n",
    "z = (x - mean)/(standard deviation/sqrt(36))\n",
    "\n",
    "For this set of data: z= (108-100) / (15/√36)=3.20\n",
    "\n",
    "You can look at the probability by looking at z- table and p-value associated with 3.20 is 0.9993 i.e. probability of having value less than 108 is 0.9993 and more than or equals to 108 is (1-0.9993)=0.0007.\n",
    "\n",
    "Step-4: It is less than 0.05 so we will reject the Null hypothesis i.e. there is raw cornstarch effect."
   ]
  },
  {
   "cell_type": "code",
   "execution_count": 1,
   "metadata": {},
   "outputs": [
    {
     "data": {
      "text/plain": [
       "3.2"
      ]
     },
     "metadata": {},
     "output_type": "display_data"
    }
   ],
   "source": [
    "import math\n",
    "import scipy.stats as st\n",
    "# Population Mean \n",
    "m = 100\n",
    "\n",
    "# Gluclose Level Gl let be x\n",
    "x = 108\n",
    " \n",
    "# Standard Deviation S\n",
    "s = 15\n",
    "\n",
    "# Sample Patients\n",
    "y = 36\n",
    "\n",
    "# z = (x - mean)/(standard deviation/sqrt(36))\n",
    "z = (108 - 100)/(15/math.sqrt(36))\n",
    "display(z)"
   ]
  },
  {
   "cell_type": "code",
   "execution_count": 2,
   "metadata": {},
   "outputs": [
    {
     "data": {
      "text/plain": [
       "0.9993128620620841"
      ]
     },
     "execution_count": 2,
     "metadata": {},
     "output_type": "execute_result"
    }
   ],
   "source": [
    "st.norm.cdf(z)"
   ]
  },
  {
   "cell_type": "markdown",
   "metadata": {},
   "source": [
    "probability of having value less than 108 is 0.9993 and more than or equals to 108 is (1-0.9993)=0.0007. \n",
    "It is less than 0.05 so we will reject the Null hypothesis i.e. there is raw cornstarch effect. "
   ]
  },
  {
   "cell_type": "code",
   "execution_count": null,
   "metadata": {},
   "outputs": [],
   "source": [
    "#question2"
   ]
  },
  {
   "cell_type": "code",
   "execution_count": 3,
   "metadata": {},
   "outputs": [],
   "source": [
    "import math\n",
    "import scipy.stats as st\n",
    "\n",
    "# For State 1 Republican Voters 52%\n",
    "P1 = 0.52\n",
    "\n",
    "# For Stare 2 Republican Voters 48%\n",
    "P2 = 0.47"
   ]
  },
  {
   "cell_type": "code",
   "execution_count": 4,
   "metadata": {},
   "outputs": [
    {
     "data": {
      "text/plain": [
       "52.0"
      ]
     },
     "metadata": {},
     "output_type": "display_data"
    }
   ],
   "source": [
    "# The number of voters sampled from the first state (n1) = 100, \n",
    "# The number of voters sampled from the second state (n2) = 100.\n",
    "\n",
    "n1 = 100\n",
    "n2 = 100\n",
    "\n",
    "n1P1 = n1 * P1\n",
    "display(n1P1)"
   ]
  },
  {
   "cell_type": "code",
   "execution_count": 5,
   "metadata": {},
   "outputs": [
    {
     "data": {
      "text/plain": [
       "48.0"
      ]
     },
     "metadata": {},
     "output_type": "display_data"
    }
   ],
   "source": [
    "# n1negP1 = n1(1 - P1)\n",
    "n1negP1 = n1 * (1 - P1)\n",
    "display(n1negP1)"
   ]
  },
  {
   "cell_type": "code",
   "execution_count": 6,
   "metadata": {},
   "outputs": [
    {
     "data": {
      "text/plain": [
       "47.0"
      ]
     },
     "metadata": {},
     "output_type": "display_data"
    }
   ],
   "source": [
    "n2P2 = n2 * P2 \n",
    "display(n2P2)"
   ]
  },
  {
   "cell_type": "code",
   "execution_count": 7,
   "metadata": {},
   "outputs": [
    {
     "data": {
      "text/plain": [
       "53.0"
      ]
     },
     "metadata": {},
     "output_type": "display_data"
    }
   ],
   "source": [
    "#n2negP2 = n2(1 - P2)\n",
    "n2negP2 = n2 * (1 - P2)\n",
    "display(n2negP2)"
   ]
  },
  {
   "cell_type": "code",
   "execution_count": 8,
   "metadata": {},
   "outputs": [
    {
     "data": {
      "text/plain": [
       "0.050000000000000044"
      ]
     },
     "metadata": {},
     "output_type": "display_data"
    }
   ],
   "source": [
    "# Find the mean of the difference in sample proportions: E(p1 - p2) => Ep1p2 = P1 - P2 = 0.52 - 0.47 = 0.05. \n",
    "Ep1p2 = P1 - P2\n",
    "display(Ep1p2)"
   ]
  },
  {
   "cell_type": "code",
   "execution_count": 9,
   "metadata": {},
   "outputs": [
    {
     "data": {
      "text/plain": [
       "0.004987"
      ]
     },
     "metadata": {},
     "output_type": "display_data"
    }
   ],
   "source": [
    "stdValues = (P1 * (1 - P1) / n1) + ( P2 * (1 - P2) / n2 )\n",
    "display(stdValues)"
   ]
  },
  {
   "cell_type": "code",
   "execution_count": 10,
   "metadata": {},
   "outputs": [
    {
     "data": {
      "text/plain": [
       "0.07061869440877536"
      ]
     },
     "metadata": {},
     "output_type": "display_data"
    }
   ],
   "source": [
    "# Standard Deviation σd = stdDeviation\n",
    "stdDeviation = math.sqrt(stdValues)\n",
    "display(stdDeviation)"
   ]
  },
  {
   "cell_type": "code",
   "execution_count": 11,
   "metadata": {},
   "outputs": [
    {
     "data": {
      "text/plain": [
       "-0.7080278164104213"
      ]
     },
     "metadata": {},
     "output_type": "display_data"
    }
   ],
   "source": [
    "# Transformation appears below.\n",
    "x = 0\n",
    "\n",
    "# zp = zp1 - p2 = (x - μp1 - p2) / σd = = (0 - 0.05)/0.0706 = -0.7082\n",
    "zp = (x - Ep1p2) / stdDeviation\n",
    "display(zp)"
   ]
  },
  {
   "cell_type": "code",
   "execution_count": 12,
   "metadata": {},
   "outputs": [
    {
     "data": {
      "text/plain": [
       "0.23946399182220013"
      ]
     },
     "execution_count": 12,
     "metadata": {},
     "output_type": "execute_result"
    }
   ],
   "source": [
    "# Using Normal Distribution Calculator, we find P(z <=0.7082) = 0.24 the probability of a z-score being -0.7082 or less is 0.24\n",
    "\n",
    "st.norm.cdf(zp)"
   ]
  },
  {
   "cell_type": "markdown",
   "metadata": {},
   "source": [
    "Therefore, the probability that thesurvey will show a greater percentage of Republican voters in the second state than in the first state is 0.24."
   ]
  },
  {
   "cell_type": "code",
   "execution_count": null,
   "metadata": {},
   "outputs": [],
   "source": [
    "#question3"
   ]
  },
  {
   "cell_type": "markdown",
   "metadata": {},
   "source": [
    "z = (x - μ) / σ\n",
    "\n",
    "(1100 - 1026) / 209 = .354. This means that your score was .354 std devs above the mean.\n",
    "\n",
    "Look up your z-value in the z-table to see what percentage of test-takers scored below you. A z-score of .354 is .1368 + .5000* = .6368 or 63.68%."
   ]
  },
  {
   "cell_type": "code",
   "execution_count": 13,
   "metadata": {},
   "outputs": [
    {
     "data": {
      "text/plain": [
       "0.35406698564593303"
      ]
     },
     "metadata": {},
     "output_type": "display_data"
    }
   ],
   "source": [
    "import math\n",
    "import scipy.stats as st\n",
    "\n",
    "# SAT Total Score x\n",
    "x = 1100\n",
    "\n",
    "# Mean score μ let we do it as m\n",
    "m = 1026\n",
    "\n",
    "# Standard Deviation σ and let we do it as s\n",
    "s = 209\n",
    "\n",
    "# z = (x - μ) / σ\n",
    "\n",
    "z = (x - m) / s\n",
    "display(z)"
   ]
  },
  {
   "cell_type": "code",
   "execution_count": 14,
   "metadata": {},
   "outputs": [
    {
     "data": {
      "text/plain": [
       "0.6383556584353189"
      ]
     },
     "execution_count": 14,
     "metadata": {},
     "output_type": "execute_result"
    }
   ],
   "source": [
    "st.norm.cdf(z)"
   ]
  }
 ],
 "metadata": {
  "kernelspec": {
   "display_name": "Python 3",
   "language": "python",
   "name": "python3"
  },
  "language_info": {
   "codemirror_mode": {
    "name": "ipython",
    "version": 3
   },
   "file_extension": ".py",
   "mimetype": "text/x-python",
   "name": "python",
   "nbconvert_exporter": "python",
   "pygments_lexer": "ipython3",
   "version": "3.7.0"
  }
 },
 "nbformat": 4,
 "nbformat_minor": 2
}
